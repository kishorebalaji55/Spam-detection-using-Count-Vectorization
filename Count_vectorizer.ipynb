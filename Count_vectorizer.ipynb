{
  "nbformat": 4,
  "nbformat_minor": 0,
  "metadata": {
    "colab": {
      "name": "Count_vectorizer.ipynb",
      "provenance": []
    },
    "kernelspec": {
      "name": "python3",
      "display_name": "Python 3"
    }
  },
  "cells": [
    {
      "cell_type": "code",
      "metadata": {
        "id": "VL4hRGKEFiTd",
        "colab": {
          "base_uri": "https://localhost:8080/",
          "height": 158
        },
        "outputId": "006004cb-79c6-41da-9bcb-2ed178440565"
      },
      "source": [
        "from sklearn.feature_extraction.text import CountVectorizer\n",
        "\n",
        "\n",
        "vectorizer = CountVectorizer()\n",
        "\n",
        "sample_text = [\"Never gonna give you up\",\n",
        "               \"Never gonna let you down \",\n",
        "               \"Never gonna run around and desert you\"]\n",
        "\n",
        "# To actually create the vectorizer, we simply need to call fit on the text\n",
        "# data that we wish to fix\n",
        "vectorizer.fit(sample_text)\n",
        "\n",
        "# Now, we can inspect how our vectorizer vectorized the text\n",
        "# This will print out a list of words used, and their index in the vectors\n",
        "print('Vocabulary: ')\n",
        "print(vectorizer.vocabulary_)\n",
        "\n",
        "# If we would like to actually create a vector, we can do so by passing the\n",
        "# text into the vectorizer to get back counts\n",
        "vector = vectorizer.transform(sample_text)\n",
        "\n",
        "# Our final vector:\n",
        "print('Full vector: ')\n",
        "print(vector.toarray())\n",
        "\n",
        "# Or if we wanted to get the vector for one word:\n",
        "print('Hot vector: ')\n",
        "print(vectorizer.transform(['Never']).toarray())"
      ],
      "execution_count": null,
      "outputs": [
        {
          "output_type": "stream",
          "text": [
            "Vocabulary: \n",
            "{'never': 7, 'gonna': 5, 'give': 4, 'you': 10, 'up': 9, 'let': 6, 'down': 3, 'run': 8, 'around': 1, 'and': 0, 'desert': 2}\n",
            "Full vector: \n",
            "[[0 0 0 0 1 1 0 1 0 1 1]\n",
            " [0 0 0 1 0 1 1 1 0 0 1]\n",
            " [1 1 1 0 0 1 0 1 1 0 1]]\n",
            "Hot vector: \n",
            "[[0 0 0 0 0 0 0 1 0 0 0]]\n"
          ],
          "name": "stdout"
        }
      ]
    },
    {
      "cell_type": "code",
      "metadata": {
        "id": "_OyAOP6kGZBf",
        "colab": {
          "base_uri": "https://localhost:8080/",
          "height": 210
        },
        "outputId": "c97ade05-eb90-4c16-e3c4-397ada8b2b34"
      },
      "source": [
        "vectorizer.get_feature_names()"
      ],
      "execution_count": null,
      "outputs": [
        {
          "output_type": "execute_result",
          "data": {
            "text/plain": [
              "['and',\n",
              " 'around',\n",
              " 'desert',\n",
              " 'down',\n",
              " 'give',\n",
              " 'gonna',\n",
              " 'let',\n",
              " 'never',\n",
              " 'run',\n",
              " 'up',\n",
              " 'you']"
            ]
          },
          "metadata": {
            "tags": []
          },
          "execution_count": 3
        }
      ]
    },
    {
      "cell_type": "code",
      "metadata": {
        "id": "la4alFajGz1M"
      },
      "source": [
        ""
      ],
      "execution_count": null,
      "outputs": []
    }
  ]
}